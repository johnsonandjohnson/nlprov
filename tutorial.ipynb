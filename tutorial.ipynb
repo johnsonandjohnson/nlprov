{
 "cells": [
  {
   "cell_type": "markdown",
   "metadata": {},
   "source": [
    "## Tutorial Notebook\n",
    "Welcome! This Jupyter notebook is designed to show you how our\n",
    "Natural Language Processing package works using a sample dataset\n",
    "from the nltk package."
   ]
  },
  {
   "cell_type": "code",
   "execution_count": 1,
   "metadata": {},
   "outputs": [],
   "source": [
    "# Imports\n",
    "from nltk.corpus import reuters\n",
    "import pandas as pd\n",
    "\n",
    "from nlprov.preprocessing import preprocess_text\n",
    "from nlprov.vectorize import vectorize_text, vectorize_new_text\n",
    "from nlprov.similarity_calc import similarity_calculation"
   ]
  },
  {
   "cell_type": "markdown",
   "metadata": {},
   "source": [
    "The code below simply extracts the first ten Reuters articles from the\n",
    "Reuters Corpus in NLTK."
   ]
  },
  {
   "cell_type": "code",
   "execution_count": 2,
   "metadata": {},
   "outputs": [
    {
     "name": "stdout",
     "output_type": "stream",
     "text": [
      "     file_ids                                            article\n",
      "0  test/14826  ASIAN EXPORTERS FEAR DAMAGE FROM U.S.-JAPAN RI...\n",
      "1  test/14828  CHINA DAILY SAYS VERMIN EAT 7-12 PCT GRAIN STO...\n",
      "2  test/14829  JAPAN TO REVISE LONG-TERM ENERGY DEMAND DOWNWA...\n",
      "3  test/14832  THAI TRADE DEFICIT WIDENS IN FIRST QUARTER\\n  ...\n",
      "4  test/14833  INDONESIA SEES CPO PRICE RISING SHARPLY\\n  Ind...\n",
      "5  test/14839  AUSTRALIAN FOREIGN SHIP BAN ENDS BUT NSW PORTS...\n",
      "6  test/14840  INDONESIAN COMMODITY EXCHANGE MAY EXPAND\\n  Th...\n",
      "7  test/14841  SRI LANKA GETS USDA APPROVAL FOR WHEAT PRICE\\n...\n",
      "8  test/14842  WESTERN MINING TO OPEN NEW GOLD MINE IN AUSTRA...\n",
      "9  test/14843  SUMITOMO BANK AIMS AT QUICK RECOVERY FROM MERG...\n"
     ]
    }
   ],
   "source": [
    "# Get 10 reuters articles\n",
    "reuters_df = pd.DataFrame(reuters.fileids()[0:10], columns=['file_ids'])\n",
    "reuters_df['article'] = [reuters.raw(a_id) for a_id in reuters_df.file_ids]\n",
    "print(reuters_df)"
   ]
  },
  {
   "cell_type": "markdown",
   "metadata": {},
   "source": [
    "The `preprocess_text` function standardizes the text in the aritcle\n",
    "(e.g. removing punctuation, lower casing words) so it's ready for\n",
    "vectorization.\n",
    "You can see the effects on the Reuters article below."
   ]
  },
  {
   "cell_type": "code",
   "execution_count": 3,
   "metadata": {},
   "outputs": [
    {
     "name": "stdout",
     "output_type": "stream",
     "text": [
      "Before: CHINA DAILY SAYS VERMIN EAT 7-12 PCT GRAIN STOCKS\n",
      "  A survey of 19 provinces and seven cities\n",
      "  showed vermin consume between seven and 12 pct of China's grain\n",
      "  stocks, the China Daily said.\n",
      "      It also said that each year 1.575 mln tonnes, or 25 pct, of\n",
      "  China's fruit output are left to rot, and 2.1 mln tonnes, or up\n",
      "  to 30 pct, of its vegetables. The paper blamed the waste on\n",
      "  inadequate storage and bad preservation methods.\n",
      "      It said the government had launched a national programme to\n",
      "  reduce waste, calling for improved technology in storage and\n",
      "  preservation, and greater production of additives. The paper\n",
      "  gave no further details.\n",
      "  \n",
      "\n",
      "\n",
      "After: china daily says vermin eat 7 12 pct grain stocks a survey of 19 provinces and seven cities showed vermin consume between seven and 12 pct of china s grain stocks the china daily said it also said that each year 1 575 mln tonnes or 25 pct of china s fruit output are left to rot and 2 1 mln tonnes or up to 30 pct of its vegetables the paper blamed the waste on inadequate storage and bad preservation methods it said the government had launched a national programme to reduce waste calling for improved technology in storage and preservation and greater production of additives the paper gave no further details\n"
     ]
    }
   ],
   "source": [
    "preprocessed_text = preprocess_text(reuters_df.article)\n",
    "print(\"Before:\", reuters_df.article[1])\n",
    "print(\"After:\", preprocessed_text[1])"
   ]
  },
  {
   "cell_type": "markdown",
   "metadata": {},
   "source": [
    "By default, the `preprocess_text` function does the following.\n",
    "* lowercases the text\n",
    "* only keeps letters and numbers\n",
    "* removes NAs/NaNs\n",
    "* filters the text to English language only\n",
    "However, you can also add the following steps with the\n",
    "parameters provided.\n",
    "* a custom find/replace dictionary (`replace_dict`)\n",
    "* lemmatization or stemming (`lemma`, `stem`)\n",
    "* return a list of lists format versus series format (`token_list`)\n",
    "* remove stop words (`stop_words`)"
   ]
  },
  {
   "cell_type": "markdown",
   "metadata": {},
   "source": [
    "The `vectorize_text` function creates two objects.\n",
    "1. `vec_text` - a Document Feature Matrix (DFM) which is a\n",
    "sparse matrix where each row\n",
    "is a document from the original dataset and each column is a feature\n",
    "such as the count of a specific term\n",
    "2. `vec_obj` - an sklearn Vectorizer object that contains the\n",
    "parameters used to vectorize the text\n",
    "It takes a parameter `vec_type` which lets you specify whether to use\n",
    "the feature counts (`count`)\n",
    "or the TF-IDF weighted feature counts (`tfidf`).\n",
    "By default, features counts are used."
   ]
  },
  {
   "cell_type": "code",
   "execution_count": 4,
   "metadata": {},
   "outputs": [],
   "source": [
    "vec_text, vec_obj = vectorize_text(preprocessed_text)"
   ]
  },
  {
   "cell_type": "markdown",
   "metadata": {},
   "source": [
    "The following cell shows how these functions can be used\n",
    "on a new piece of text that would be\n",
    "representative of a search query against the first 10\n",
    "Reuters articles."
   ]
  },
  {
   "cell_type": "code",
   "execution_count": 5,
   "metadata": {},
   "outputs": [],
   "source": [
    "new_text = pd.Series(data=[\"Sumitomo Bank got merged on sunday!\"])\n",
    "new_preprocessed_text = preprocess_text(new_text)\n",
    "new_vec_text = vectorize_new_text(new_preprocessed_text, vec_obj)"
   ]
  },
  {
   "cell_type": "code",
   "execution_count": 6,
   "metadata": {},
   "outputs": [
    {
     "data": {
      "text/plain": [
       "0    sumitomo bank got merged on sunday\n",
       "dtype: object"
      ]
     },
     "execution_count": 6,
     "metadata": {},
     "output_type": "execute_result"
    }
   ],
   "source": [
    "new_preprocessed_text"
   ]
  },
  {
   "cell_type": "markdown",
   "metadata": {},
   "source": [
    "The `similarity_calculation` function calculates the similarity\n",
    "of the new text to the existing\n",
    "documents (using their vectorized forms) using the similarity\n",
    "metric specified in the `metric` parameter.\n",
    "Currently, the following similarity metrics are supported:\n",
    "`cosine`, `jaccard`, `mahattan`, `dice`,\n",
    "and `hamming`. Cosine distance is the default."
   ]
  },
  {
   "cell_type": "code",
   "execution_count": 7,
   "metadata": {},
   "outputs": [
    {
     "data": {
      "text/plain": [
       "array([[0.03624204, 0.03143473, 0.01984189, 0.        , 0.02646281,\n",
       "        0.05657357, 0.04946194, 0.        , 0.        , 0.24426358]])"
      ]
     },
     "execution_count": 7,
     "metadata": {},
     "output_type": "execute_result"
    }
   ],
   "source": [
    "cos_similarity = similarity_calculation(new_vec_text, vec_text)\n",
    "cos_similarity"
   ]
  },
  {
   "cell_type": "markdown",
   "metadata": {},
   "source": [
    "While those similarity values are great to have, they're even\n",
    "easier to understand when we pair\n",
    "them back with their associated reuters article."
   ]
  },
  {
   "cell_type": "code",
   "execution_count": 8,
   "metadata": {},
   "outputs": [
    {
     "data": {
      "text/html": [
       "<div>\n",
       "<style scoped>\n",
       "    .dataframe tbody tr th:only-of-type {\n",
       "        vertical-align: middle;\n",
       "    }\n",
       "\n",
       "    .dataframe tbody tr th {\n",
       "        vertical-align: top;\n",
       "    }\n",
       "\n",
       "    .dataframe thead th {\n",
       "        text-align: right;\n",
       "    }\n",
       "</style>\n",
       "<table border=\"1\" class=\"dataframe\">\n",
       "  <thead>\n",
       "    <tr style=\"text-align: right;\">\n",
       "      <th></th>\n",
       "      <th>file_ids</th>\n",
       "      <th>article</th>\n",
       "      <th>cosine_similarity</th>\n",
       "    </tr>\n",
       "  </thead>\n",
       "  <tbody>\n",
       "    <tr>\n",
       "      <th>9</th>\n",
       "      <td>test/14843</td>\n",
       "      <td>SUMITOMO BANK AIMS AT QUICK RECOVERY FROM MERG...</td>\n",
       "      <td>0.244264</td>\n",
       "    </tr>\n",
       "    <tr>\n",
       "      <th>5</th>\n",
       "      <td>test/14839</td>\n",
       "      <td>AUSTRALIAN FOREIGN SHIP BAN ENDS BUT NSW PORTS...</td>\n",
       "      <td>0.056574</td>\n",
       "    </tr>\n",
       "    <tr>\n",
       "      <th>6</th>\n",
       "      <td>test/14840</td>\n",
       "      <td>INDONESIAN COMMODITY EXCHANGE MAY EXPAND\\n  Th...</td>\n",
       "      <td>0.049462</td>\n",
       "    </tr>\n",
       "    <tr>\n",
       "      <th>0</th>\n",
       "      <td>test/14826</td>\n",
       "      <td>ASIAN EXPORTERS FEAR DAMAGE FROM U.S.-JAPAN RI...</td>\n",
       "      <td>0.036242</td>\n",
       "    </tr>\n",
       "    <tr>\n",
       "      <th>1</th>\n",
       "      <td>test/14828</td>\n",
       "      <td>CHINA DAILY SAYS VERMIN EAT 7-12 PCT GRAIN STO...</td>\n",
       "      <td>0.031435</td>\n",
       "    </tr>\n",
       "    <tr>\n",
       "      <th>4</th>\n",
       "      <td>test/14833</td>\n",
       "      <td>INDONESIA SEES CPO PRICE RISING SHARPLY\\n  Ind...</td>\n",
       "      <td>0.026463</td>\n",
       "    </tr>\n",
       "    <tr>\n",
       "      <th>2</th>\n",
       "      <td>test/14829</td>\n",
       "      <td>JAPAN TO REVISE LONG-TERM ENERGY DEMAND DOWNWA...</td>\n",
       "      <td>0.019842</td>\n",
       "    </tr>\n",
       "    <tr>\n",
       "      <th>3</th>\n",
       "      <td>test/14832</td>\n",
       "      <td>THAI TRADE DEFICIT WIDENS IN FIRST QUARTER\\n  ...</td>\n",
       "      <td>0.000000</td>\n",
       "    </tr>\n",
       "    <tr>\n",
       "      <th>7</th>\n",
       "      <td>test/14841</td>\n",
       "      <td>SRI LANKA GETS USDA APPROVAL FOR WHEAT PRICE\\n...</td>\n",
       "      <td>0.000000</td>\n",
       "    </tr>\n",
       "    <tr>\n",
       "      <th>8</th>\n",
       "      <td>test/14842</td>\n",
       "      <td>WESTERN MINING TO OPEN NEW GOLD MINE IN AUSTRA...</td>\n",
       "      <td>0.000000</td>\n",
       "    </tr>\n",
       "  </tbody>\n",
       "</table>\n",
       "</div>"
      ],
      "text/plain": [
       "     file_ids                                            article  \\\n",
       "9  test/14843  SUMITOMO BANK AIMS AT QUICK RECOVERY FROM MERG...   \n",
       "5  test/14839  AUSTRALIAN FOREIGN SHIP BAN ENDS BUT NSW PORTS...   \n",
       "6  test/14840  INDONESIAN COMMODITY EXCHANGE MAY EXPAND\\n  Th...   \n",
       "0  test/14826  ASIAN EXPORTERS FEAR DAMAGE FROM U.S.-JAPAN RI...   \n",
       "1  test/14828  CHINA DAILY SAYS VERMIN EAT 7-12 PCT GRAIN STO...   \n",
       "4  test/14833  INDONESIA SEES CPO PRICE RISING SHARPLY\\n  Ind...   \n",
       "2  test/14829  JAPAN TO REVISE LONG-TERM ENERGY DEMAND DOWNWA...   \n",
       "3  test/14832  THAI TRADE DEFICIT WIDENS IN FIRST QUARTER\\n  ...   \n",
       "7  test/14841  SRI LANKA GETS USDA APPROVAL FOR WHEAT PRICE\\n...   \n",
       "8  test/14842  WESTERN MINING TO OPEN NEW GOLD MINE IN AUSTRA...   \n",
       "\n",
       "   cosine_similarity  \n",
       "9           0.244264  \n",
       "5           0.056574  \n",
       "6           0.049462  \n",
       "0           0.036242  \n",
       "1           0.031435  \n",
       "4           0.026463  \n",
       "2           0.019842  \n",
       "3           0.000000  \n",
       "7           0.000000  \n",
       "8           0.000000  "
      ]
     },
     "execution_count": 8,
     "metadata": {},
     "output_type": "execute_result"
    }
   ],
   "source": [
    "reuters_df['cosine_similarity'] = cos_similarity[0]\n",
    "reuters_df.sort_values(by=['cosine_similarity'], ascending=False)"
   ]
  },
  {
   "cell_type": "markdown",
   "metadata": {},
   "source": [
    "You can see that our new piece of text\n",
    "\"Sumitomo Bank got merged on sunday!\" unsurprisingly\n",
    "lines up with Article 14843 about the Sumitomo Bank merger."
   ]
  }
 ],
 "metadata": {
  "kernelspec": {
   "display_name": "Python 3",
   "language": "python",
   "name": "python3"
  },
  "language_info": {
   "codemirror_mode": {
    "name": "ipython",
    "version": 3
   },
   "file_extension": ".py",
   "mimetype": "text/x-python",
   "name": "python",
   "nbconvert_exporter": "python",
   "pygments_lexer": "ipython3",
   "version": "3.8.5"
  },
  "pycharm": {
   "stem_cell": {
    "cell_type": "raw",
    "metadata": {
     "collapsed": false
    },
    "source": []
   }
  }
 },
 "nbformat": 4,
 "nbformat_minor": 2
}